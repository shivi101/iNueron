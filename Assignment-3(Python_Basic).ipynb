{
 "cells": [
  {
   "cell_type": "raw",
   "metadata": {},
   "source": [
    "1) Why are functions advantageous to have in your programs?\n",
    "\n",
    "SOLUTION :\n",
    "\n",
    "1.Avoid rewriting/repetition of the code in the program, we can reuse the already defined function again and again.\n",
    "2.Use of functions enhances the readability of a program.Functions keeps the program organized and easy to understand.\n",
    "3.Modifying a program becomes easier by using function.\n",
    "4.In addition to reducing coding time,functions help to reduce debugging time. \n",
    "\n",
    "\n"
   ]
  },
  {
   "cell_type": "raw",
   "metadata": {},
   "source": [
    "2) When does the code in a function run: when it's specified or when it's called?\n",
    "\n",
    "SOLUTION :\n",
    "\n",
    "Funtion in a program runs when it is called.\n",
    "When a function is called the program control jumps to that function definition and executes the statements inside the function body. After executing the body of the function, the program control jumps back to the part of the program which called the function, and resumes execution at that point.\n",
    "\n"
   ]
  },
  {
   "cell_type": "raw",
   "metadata": {},
   "source": [
    "3) What statement creates a function?\n",
    "\n",
    "SOLUTION:\n",
    "\n",
    "* We use \"def\" keyword to create function definition.\n",
    "* Give name to the function.\n",
    "* Function may be parametarized or unparameterized.\n",
    "* Use the \"return\" keyword at the end of the function to return the output.\n",
    "\n",
    "def function_name(parameters):\n",
    "\t\"\"\"docstring\"\"\"\n",
    "\tstatement(s)\n",
    "    \n",
    "Example :\n",
    "    \n",
    "def add( x, y):  { Name of the function is \"add\", x, y are the 2 parameters and functions returns the sum of both parameters}\n",
    "  sum= x+y\n",
    "  return (sum)\n"
   ]
  },
  {
   "cell_type": "raw",
   "metadata": {},
   "source": [
    "4. What is the difference between a function and a function call?\n",
    "\n",
    "SOLUTION:\n",
    "\n",
    "A function is a block of code that does a particular operation and returns a value depending upon inputs as parameters.The parameters are not mandatory while a function call is the code/statement used to pass control to a function.The calling function contains the input (the actual parameters) which is given to the called function and it performs the procedure specified and returns if anything is to be returned.\n",
    "\n",
    "Example :\n",
    "\n",
    "FUNCTION -\n",
    "def sub(a,b):\n",
    "  return(a-b)\n",
    "  \n",
    "FUNCTION CALL -\n",
    "sub(8,4)  { where 8, 4 are actual parameters passed to the function sub}\n",
    "\n"
   ]
  },
  {
   "cell_type": "raw",
   "metadata": {},
   "source": [
    "5) How many global scopes are there in a Python program? How many local scopes?\n",
    "\n",
    "SOLUTION:\n",
    "\n",
    "* There is one global scope, a variable created in the main body of the code is a global variable and belongs to the global       scope. Global variables are available from within any scope, global and local. \n",
    "\n",
    "Example-\n",
    "\n",
    "x=10\n",
    "def val():\n",
    "  return(x)     { Here x is in global scope hence called \"global variable\" and it is accessible inside function \"val\" as well                     as to other functions present in the code}  \n",
    "  \n",
    "\n",
    "\n",
    "* Local scope is created whenever a function is called.A variable created inside a function belongs to the local scope of that   function, and can only be used inside that function.\n",
    "\n",
    "Example -\n",
    "\n",
    "x=10\n",
    "def val():\n",
    "  y=6\n",
    "  return(x+y)    { Here x is global variable while y is local variable which is accessible only inside the function \"val\"}"
   ]
  },
  {
   "cell_type": "raw",
   "metadata": {},
   "source": [
    "6) What happens to variables in a local scope when the function call returns?\n",
    "\n",
    "SOLUTION :\n",
    "\n",
    "When a function returns, the local scope is destroyed and a local variable becomes undefined after the function call completes  and all the variables in it are forgotten.\n"
   ]
  },
  {
   "cell_type": "raw",
   "metadata": {},
   "source": [
    "7) What is the concept of a return value? Is it possible to have a return value in an expression?\n",
    "\n",
    "SOLUTION :\n",
    "\n",
    "A return value is the value that a function call evaluates to. \n",
    "Yes, a return value can be used as part of an expression.\n"
   ]
  },
  {
   "cell_type": "raw",
   "metadata": {},
   "source": [
    "8) If a function does not have a return statement, what is the return value of a call to that function?\n",
    "\n",
    "SOLUTION :\n",
    "\n",
    "If no return statement is present in a function definition, control automatically returns to the calling function after the last statement of the called function is executed and its return value is None."
   ]
  },
  {
   "cell_type": "raw",
   "metadata": {},
   "source": [
    "9) How do you make a function variable refer to the global variable?\n",
    "\n",
    "SOLUTION :\n",
    "\n",
    "To refer to a global variable in a function, we can use the \"global\" keyword to declare which variables are global.\n"
   ]
  },
  {
   "cell_type": "raw",
   "metadata": {},
   "source": [
    "10) What is the data type of None?\n",
    "\n",
    "SOLUTION :\n",
    "\n",
    "The data type of None is NoneType."
   ]
  },
  {
   "cell_type": "raw",
   "metadata": {},
   "source": [
    "11) What does the sentence import areallyourpetsnamederic do?\n",
    "\n",
    "SOLUTION:\n",
    "\n",
    "import keyword to make code in one module available in another.\n",
    "areallyourpetsnamederic is a module name and import statement will import a module named areallyourpetsnamederic.\n",
    "\n"
   ]
  },
  {
   "cell_type": "raw",
   "metadata": {},
   "source": [
    "12) If you had a bacon() feature in a spam module, what would you call it after importing spam?\n",
    "\n",
    "SOLUTION :\n",
    "\n",
    "The function can be called with spam.bacon().\n"
   ]
  },
  {
   "cell_type": "raw",
   "metadata": {},
   "source": [
    "13) What can you do to save a programme from crashing if it encounters an error?\n",
    "\n",
    "SOLUTION :\n",
    "\n",
    "We use the try and except statements to handle exceptions. Whenever the code breaks down, an exception is thrown without crashing the program."
   ]
  },
  {
   "cell_type": "raw",
   "metadata": {},
   "source": [
    "14) What is the purpose of the try clause? What is the purpose of the except clause?\n",
    "\n",
    "SOLUTION:\n",
    "\n",
    "The TRY block lets us test a block of code for errors. The EXCEPT block lets us handle the error. The ELSE block lets us execute code when there is no error. The FINALLY block lets us execute code, regardless of the result of the try- and except blocks.\n"
   ]
  },
  {
   "cell_type": "code",
   "execution_count": 8,
   "metadata": {},
   "outputs": [
    {
     "name": "stdout",
     "output_type": "stream",
     "text": [
      "Oops! You are dividing by zero \n"
     ]
    }
   ],
   "source": [
    "def divide(x, y):\n",
    "    try:\n",
    "        div = x // y  # Floor Division : Gives only Fractional Part as Answer\n",
    "        print(div)\n",
    "    except ZeroDivisionError:\n",
    "        print(\"Oops! You are dividing by zero \")\n",
    "        \n",
    "        \n",
    "divide(6,0)\n",
    " "
   ]
  },
  {
   "cell_type": "code",
   "execution_count": null,
   "metadata": {},
   "outputs": [],
   "source": []
  }
 ],
 "metadata": {
  "kernelspec": {
   "display_name": "Python 3",
   "language": "python",
   "name": "python3"
  },
  "language_info": {
   "codemirror_mode": {
    "name": "ipython",
    "version": 3
   },
   "file_extension": ".py",
   "mimetype": "text/x-python",
   "name": "python",
   "nbconvert_exporter": "python",
   "pygments_lexer": "ipython3",
   "version": "3.7.6"
  }
 },
 "nbformat": 4,
 "nbformat_minor": 4
}
