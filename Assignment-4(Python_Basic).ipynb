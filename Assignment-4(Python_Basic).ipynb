{
 "cells": [
  {
   "cell_type": "raw",
   "metadata": {},
   "source": [
    "1) What exactly is []?\n",
    "\n",
    "SOLUTION :\n",
    "    \n",
    "In Python, a list is created by placing elements inside square brackets [] , separated by commas. A list can have any number of items and they may be of different types (integer, float, string, etc.). A list can also have another list as an item.\n",
    "Here [] this means an empty list.\n",
    "\n",
    "Example -\n",
    "\n",
    "list = []"
   ]
  },
  {
   "cell_type": "raw",
   "metadata": {},
   "source": [
    "2) In a list of values stored in a variable called spam, how would you assign the value 'hello' as the third value? \n",
    "   (Assume [2,4, 6, 8, 10] are in spam.)\n",
    "\n",
    "SOLUTION :\n",
    "\n",
    "spam = [2,4,6,8,10]\n",
    "spam[2]= \"hello\"\n",
    "print(spam)"
   ]
  },
  {
   "cell_type": "code",
   "execution_count": 5,
   "metadata": {},
   "outputs": [
    {
     "name": "stdout",
     "output_type": "stream",
     "text": [
      "[2, 4, 'hello', 8, 10]\n"
     ]
    }
   ],
   "source": [
    "spam = [2,4,6,8,10]\n",
    "spam[2]= \"hello\"\n",
    "print(spam)"
   ]
  },
  {
   "cell_type": "raw",
   "metadata": {},
   "source": [
    "Let's pretend the spam includes the list ['a', 'b', 'c', 'd'] for the next three queries.\n",
    "\n",
    "3) What is the value of spam[int(int('3' * 2) / 11)]?\n",
    "\n",
    "SOLUTION:\n",
    "\n",
    "'d'\n",
    "\n",
    "\n",
    "4) What is the value of spam[-1]?\n",
    "\n",
    "SOLUTION:\n",
    "\n",
    "'d'\n",
    "\n",
    "5) What is the value of spam[:2]?\n",
    "\n",
    "SOLUTION:\n",
    "\n",
    "['a','b']"
   ]
  },
  {
   "cell_type": "raw",
   "metadata": {},
   "source": [
    "Let's pretend bacon has the list [3.14, 'cat', 11, 'cat,' True] for the next three questions.\n",
    "\n",
    "6) What is the value of bacon.index('cat')?\n",
    "\n",
    "SOLUTION:\n",
    "    \n",
    "1\n",
    "    \n",
    "7) How does bacon.append(99) change the look of the list value in bacon?\n",
    "\n",
    "SOLUTION:\n",
    "\n",
    "[3.14, 'cat', 11, 'cat', True, 99]\n",
    "\n",
    "    \n",
    "8. How does bacon.remove('cat') change the look of the list in bacon?\n",
    "\n",
    "SOLUTION:\n",
    "\n",
    "[3.14, 11, 'cat', True, 99]"
   ]
  },
  {
   "cell_type": "raw",
   "metadata": {},
   "source": [
    "9) What are the list concatenation and list replication operators?\n",
    "\n",
    "SOLUTION:\n",
    "\n",
    "The operator for list concatenation is +, while the operator for replication is *. An example is shown in the below code."
   ]
  },
  {
   "cell_type": "code",
   "execution_count": 18,
   "metadata": {},
   "outputs": [
    {
     "name": "stdout",
     "output_type": "stream",
     "text": [
      "HackerRank\n",
      "HackerHacker\n"
     ]
    }
   ],
   "source": [
    "str1 = 'Hacker'\n",
    "str2 = 'Rank'\n",
    "print(str1+str2) #concatenation\n",
    "print(str1*2)  #Replication"
   ]
  },
  {
   "cell_type": "raw",
   "metadata": {},
   "source": [
    "10) What is difference between the list methods append() and insert()?\n",
    "\n",
    "SOLUTION :\n",
    "\n",
    "append() - append() funtion always adds value to the end of the list.\n",
    "insert() - insert() function allows us to add a specific element at a specified index of the list. It takes 2 argument                    (index,object) and inserts value/object at the specified index."
   ]
  },
  {
   "cell_type": "code",
   "execution_count": 24,
   "metadata": {},
   "outputs": [
    {
     "data": {
      "text/plain": [
       "[2, 4, 6, 8, 10]"
      ]
     },
     "execution_count": 24,
     "metadata": {},
     "output_type": "execute_result"
    }
   ],
   "source": [
    "List=[2,4,6,8]\n",
    "List.append(10) #10 will be appended at the end of the list.\n",
    "List"
   ]
  },
  {
   "cell_type": "code",
   "execution_count": 22,
   "metadata": {},
   "outputs": [
    {
     "data": {
      "text/plain": [
       "[2, 4, 10, 6, 8]"
      ]
     },
     "execution_count": 22,
     "metadata": {},
     "output_type": "execute_result"
    }
   ],
   "source": [
    "List=[2,4,6,8]\n",
    "List.insert(2,10) # 10 will be inserted at the 2nd index in the list\n",
    "List"
   ]
  },
  {
   "cell_type": "raw",
   "metadata": {},
   "source": [
    "11) What are the two methods for removing items from a list?\n",
    "\n",
    "SOLUTION:\n",
    "\n",
    "The del statement and the remove() list method are two ways to remove values from a list.\n",
    "\n",
    "-> del list[index]\n",
    "\n",
    "-> list.remove(element)\n"
   ]
  },
  {
   "cell_type": "raw",
   "metadata": {},
   "source": [
    "12) Describe how list values and string values are identical.\n",
    "\n",
    "SOLUTION :\n",
    "\n",
    "Both lists and strings can be passed to len() funtion, have indexes and slices, can be used in for loops, be concatenated or replicated, and be used with the in and not in operators.\n",
    "\n"
   ]
  },
  {
   "cell_type": "raw",
   "metadata": {},
   "source": [
    "13) What's the difference between tuples and lists?\n",
    "\n",
    "SOLUTION :\n",
    "\n",
    "TUPLES - 1.Tuples are immutable; they cannot be changed at all. \n",
    "         2. Tuples are defined in () brackets.\n",
    "         3. T=('a','b','c,)\n",
    "\n",
    "LIST- 1.Lists are mutable; they can have values added, removed, or changed. \n",
    "      2.Lists are defined in [] brackets.\n",
    "      3)L=['a',3,'b',7,True]\n"
   ]
  },
  {
   "cell_type": "raw",
   "metadata": {},
   "source": [
    "14) How do you type a tuple value that only contains the integer 42?\n",
    "\n",
    "SOLUTION :\n",
    "\n",
    "\n",
    "(42,)\n"
   ]
  },
  {
   "cell_type": "raw",
   "metadata": {},
   "source": [
    "15) How do you get a list value's tuple form? How do you get a tuple value's list form?\n",
    "\n",
    "SOLUTION :\n",
    "    \n",
    "The tuple() and list() functions, respectively."
   ]
  },
  {
   "cell_type": "code",
   "execution_count": 28,
   "metadata": {},
   "outputs": [
    {
     "name": "stdout",
     "output_type": "stream",
     "text": [
      "[1, 2, 'a', 7, 9]\n",
      "(2, 4, 6, 8)\n"
     ]
    }
   ],
   "source": [
    "T=(1,2,'a',7,9)\n",
    "L=[2,4,6,8]\n",
    "print(list(T))    #Using list() function to convert tupleT into list.\n",
    "print(tuple(L))   #Using tuple() function to convert list L into tuple."
   ]
  },
  {
   "cell_type": "raw",
   "metadata": {},
   "source": [
    "16) Variables that \"contain\" list values are not necessarily lists themselves. Instead, what do they contain?\n",
    "\n",
    "SOLUTION :\n",
    "\n",
    "Variables will contain references to list values rather than list values themselves. But for strings and integer values, variables simply contain the string or integer value.\n",
    "\n"
   ]
  },
  {
   "cell_type": "raw",
   "metadata": {},
   "source": [
    "17) How do you distinguish between copy.copy() and copy.deepcopy()?\n",
    "\n",
    "SOLUTION:\n",
    "\n",
    "The copy.copy() function will do a shallow copy of a list, while the copy.deepcopy() function will do a deep copy of a list. \n",
    "copy() create reference to original object. If we change the copied object original object will also change, while deepcopy() creates new object and does real copying of original object to new one. Changing new deepcopied object doesn't affect original object.\n"
   ]
  }
 ],
 "metadata": {
  "kernelspec": {
   "display_name": "Python 3",
   "language": "python",
   "name": "python3"
  },
  "language_info": {
   "codemirror_mode": {
    "name": "ipython",
    "version": 3
   },
   "file_extension": ".py",
   "mimetype": "text/x-python",
   "name": "python",
   "nbconvert_exporter": "python",
   "pygments_lexer": "ipython3",
   "version": "3.7.6"
  }
 },
 "nbformat": 4,
 "nbformat_minor": 4
}
