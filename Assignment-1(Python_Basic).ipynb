{
 "cells": [
  {
   "cell_type": "raw",
   "metadata": {},
   "source": [
    " 1. In the below elements which of them are values or an expression? eg:- values can be integer or string and expressions will      be mathematical operators.\n",
    "\n",
    "1)* \n",
    "2)'hello'\n",
    "3)-87.8\n",
    "4)- \n",
    "5)/ \n",
    "6)+\t\n",
    "7)6 \n",
    "\n",
    "SOLUTION :\n",
    "\n",
    "Values : 'hello', -87.8, 6\n",
    "\n",
    "Expression : * , - , /, +\n"
   ]
  },
  {
   "cell_type": "raw",
   "metadata": {},
   "source": [
    "2. What is the difference between string and variable?\n",
    "\n",
    "SOLUTION :\n",
    "\n",
    "String is a sequence of characters enclosed between single quote, double-quote or triple quote eg. \"Hello\", 'Code' etc while,\n",
    "variable is a reserved memory location to store values or symbol to refer an object, eg . x = \"Python\" where x is variable & \"Python\" is the string stored inside the variable.\n"
   ]
  },
  {
   "cell_type": "raw",
   "metadata": {},
   "source": [
    "3. Describe three different data types.\n",
    "\n",
    "SOLUTION :\n",
    "\n",
    "1.Numeric (int, float, complex)- Numeric data type represent the data which has numeric value. Numeric value can be integer,                                    floating number or even complex numbers. These values are defined as int, float and complex.\n",
    "                                 \n",
    "2.String (str) - String is a data type that holds sequence of characters called string.In python there is no character data                      type, a character is a string of length one. It is represented by str class.\n",
    "\n",
    "3.Boolean (bool)- Data-type that has only two value 'True' or 'False'.\n"
   ]
  },
  {
   "cell_type": "code",
   "execution_count": 16,
   "metadata": {},
   "outputs": [
    {
     "name": "stdout",
     "output_type": "stream",
     "text": [
      "Data type of  6  :   <class 'int'>\n",
      "Data type of  9.8  :   <class 'float'>\n",
      "Data type of  (1+8j)  :   <class 'complex'>\n",
      "Data type of  iNeuron  :   <class 'str'>\n",
      "Data type of  True  :   <class 'bool'>\n",
      "Data type of  False  :   <class 'bool'>\n"
     ]
    }
   ],
   "source": [
    "#This code will print different data-types explained in above question:\n",
    "L=[6,9.8,1+8j,\"iNeuron\",True, False]\n",
    "for i in L:\n",
    "    print (\"Data type of \", i, \" :  \", type(i) )"
   ]
  },
  {
   "cell_type": "raw",
   "metadata": {},
   "source": [
    "4. What is an expression made up of? What do all expressions do?\n",
    "\n",
    "SOLUTION :\n",
    "\n",
    "Expressions can be composed of literals, identifiers and operators.An expression is a statement that returns a value.\n",
    "Expressions are used to fullfill the purpose of a program, expressions are used to compute & assign values to variables and help control the execution flow of a program. \n",
    "ex. x= a+b/2\n",
    "where a+b/2 is an expression & its value is assigned to variable x after computation.\n"
   ]
  },
  {
   "cell_type": "raw",
   "metadata": {},
   "source": [
    "5. This assignment statements, like spam = 10. What is the difference between an expression and a statement?\n",
    "\n",
    "SOLUTION :\n",
    "(spam = 10) as a whole is an assignment statement where we trying to assign value 10 to variable named 'spam',a statement forms a complete unit of execution, while 10 is a expression which is assigned to 'spam'.\n"
   ]
  },
  {
   "cell_type": "raw",
   "metadata": {},
   "source": [
    "6. After running the following code, what does the variable bacon contain?\n",
    "bacon = 22\n",
    "bacon + 1\n",
    "\n",
    "SOLUTION :\n",
    "\n",
    "Variable bacon contains value 22, as in 2nd statement value is incremented by 1 but it is not assigned to the variable so it will still hold the same value as previous.\n"
   ]
  },
  {
   "cell_type": "raw",
   "metadata": {},
   "source": [
    "7. What should the values of the following two terms be?\n",
    "'spam' + 'spamspam'\n",
    "'spam' * 3\n",
    "\n",
    "SOLUTION :\n",
    "\n",
    "Values of both the terms will be same as in both trying to concatenate 2 strings :\n",
    "1)'spam' + 'spamspam' = 'spamspamspam'\n",
    "2)'spam' * 3 = 'spamspamspam'\n"
   ]
  },
  {
   "cell_type": "raw",
   "metadata": {},
   "source": [
    "8. Why is eggs a valid variable name while 100 is invalid?\n",
    "\n",
    "SOLUTION :\n",
    "\n",
    "According to variable naming convention a variable name must begin with a letter or an underscore (_). A variable name cannot begin with a digit. A variable name can only contain alpha-numeric characters and underscores ( a-z, A-Z , 0-9 , and _ ) Variable names are case-sensitive. \n",
    "So 100 is an invalid variable name as it begins with a digit 1."
   ]
  },
  {
   "cell_type": "raw",
   "metadata": {},
   "source": [
    "9. What three functions can be used to get the integer, floating-point number, or string version of a value?\n",
    "\n",
    "SOLUTION :\n",
    "\n",
    "The int() , float() , and str( ) functions can be used to get integer, floating-point number, and string versions of the value passed to them."
   ]
  },
  {
   "cell_type": "raw",
   "metadata": {},
   "source": [
    "10. Why does this expression cause an error? How can you fix it?\n",
    "'I have eaten ' + 99 + ' burritos.'\n",
    "\n",
    "SOLUTION :\n",
    "\n",
    "The expression is trying to add/concatenate two different data-type values a string & an integer this is causing error.\n",
    "To fix it we can convert integer to a string by enclosing it within ('' )or (\"\")."
   ]
  },
  {
   "cell_type": "code",
   "execution_count": 31,
   "metadata": {},
   "outputs": [
    {
     "data": {
      "text/plain": [
       "'I have eaten 99 burritos.'"
      ]
     },
     "execution_count": 31,
     "metadata": {},
     "output_type": "execute_result"
    }
   ],
   "source": [
    "# Converted integer to string by enclosing in a single-quote'99'\n",
    "\n",
    "'I have eaten ' +'99' + ' burritos.'"
   ]
  }
 ],
 "metadata": {
  "kernelspec": {
   "display_name": "Python 3",
   "language": "python",
   "name": "python3"
  },
  "language_info": {
   "codemirror_mode": {
    "name": "ipython",
    "version": 3
   },
   "file_extension": ".py",
   "mimetype": "text/x-python",
   "name": "python",
   "nbconvert_exporter": "python",
   "pygments_lexer": "ipython3",
   "version": "3.7.6"
  }
 },
 "nbformat": 4,
 "nbformat_minor": 4
}
