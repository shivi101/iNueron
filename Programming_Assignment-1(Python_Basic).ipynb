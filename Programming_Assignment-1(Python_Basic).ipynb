{
 "cells": [
  {
   "cell_type": "raw",
   "metadata": {},
   "source": [
    "1.\tWrite a Python program to print \"Hello Python\"?"
   ]
  },
  {
   "cell_type": "code",
   "execution_count": 1,
   "metadata": {},
   "outputs": [
    {
     "name": "stdout",
     "output_type": "stream",
     "text": [
      "Hello Python\n"
     ]
    }
   ],
   "source": [
    "str='Hello Python'\n",
    "print(str)"
   ]
  },
  {
   "cell_type": "raw",
   "metadata": {},
   "source": [
    "2.\tWrite a Python program to do arithmetical operations addition and division.?"
   ]
  },
  {
   "cell_type": "code",
   "execution_count": 37,
   "metadata": {},
   "outputs": [
    {
     "name": "stdout",
     "output_type": "stream",
     "text": [
      "Enter 1st input : 20\n",
      "Enter 2nd input : 5\n",
      "Addition 25\n",
      "Division 4.0\n"
     ]
    }
   ],
   "source": [
    "a=int(input(\"Enter 1st input : \"))\n",
    "b=int(input(\"Enter 2nd input : \"))\n",
    "def add(a,b):  \n",
    "    print (\"Addition\",a+b)\n",
    "def div(a,b):\n",
    "    try:\n",
    "        print (\"Division\",a/b)\n",
    "    except:\n",
    "        print (\"An Exception has occured\")\n",
    "\n",
    "add(a,b)\n",
    "div(a,b)"
   ]
  },
  {
   "cell_type": "raw",
   "metadata": {},
   "source": [
    "3.\tWrite a Python program to find the area of a triangle?"
   ]
  },
  {
   "cell_type": "code",
   "execution_count": 19,
   "metadata": {},
   "outputs": [
    {
     "name": "stdout",
     "output_type": "stream",
     "text": [
      "Enter 1st side of a triangle : 5\n",
      "Enter 2nd side of a triangle : 6\n",
      "Enter 3rd side of a triangle : 7\n",
      "The area of a triangle is 14.70\n"
     ]
    }
   ],
   "source": [
    "a = float(input(\"Enter 1st side of a triangle : \"))\n",
    "b= float(input(\"Enter 2nd side of a triangle : \"))\n",
    "c= float(input(\"Enter 3rd side of a triangle : \"))\n",
    "s=(a+b+c)/2       # Calculating the Semi-perimeter\n",
    "area= (s*(s-a)*(s-b)*(s-c))**0.5\n",
    "print ('The area of a triangle is %0.2f' %area)\n"
   ]
  },
  {
   "cell_type": "raw",
   "metadata": {},
   "source": [
    "4.\tWrite a Python program to swap two variables?"
   ]
  },
  {
   "cell_type": "code",
   "execution_count": 42,
   "metadata": {},
   "outputs": [
    {
     "name": "stdout",
     "output_type": "stream",
     "text": [
      "Enter value of 1st variable : 70\n",
      "Enter value of 2nd variable : 90\n",
      "After swapping value of 1st variable is 90 and value of 2nd variable is 70.\n"
     ]
    }
   ],
   "source": [
    "a=input(\"Enter value of 1st variable : \")\n",
    "b=input(\"Enter value of 2nd variable : \")\n",
    "c=a\n",
    "a=b\n",
    "b=c\n",
    "print(\"After swapping value of 1st variable is {} and value of 2nd variable is {}.\".format(a,b))"
   ]
  },
  {
   "cell_type": "raw",
   "metadata": {},
   "source": [
    "5.\tWrite a Python program to generate a random number?"
   ]
  },
  {
   "cell_type": "code",
   "execution_count": 39,
   "metadata": {},
   "outputs": [
    {
     "name": "stdout",
     "output_type": "stream",
     "text": [
      "Enter 1st number : 2\n",
      "Enter 2nd Number : 7\n"
     ]
    },
    {
     "data": {
      "text/plain": [
       "5"
      ]
     },
     "execution_count": 39,
     "metadata": {},
     "output_type": "execute_result"
    }
   ],
   "source": [
    "import random\n",
    "a= float(input(\"Enter 1st number : \"))\n",
    "b= float(input(\"Enter 2nd Number : \"))\n",
    "random.randint(a,b)"
   ]
  },
  {
   "cell_type": "code",
   "execution_count": null,
   "metadata": {},
   "outputs": [],
   "source": []
  }
 ],
 "metadata": {
  "kernelspec": {
   "display_name": "Python 3",
   "language": "python",
   "name": "python3"
  },
  "language_info": {
   "codemirror_mode": {
    "name": "ipython",
    "version": 3
   },
   "file_extension": ".py",
   "mimetype": "text/x-python",
   "name": "python",
   "nbconvert_exporter": "python",
   "pygments_lexer": "ipython3",
   "version": "3.7.6"
  }
 },
 "nbformat": 4,
 "nbformat_minor": 4
}
