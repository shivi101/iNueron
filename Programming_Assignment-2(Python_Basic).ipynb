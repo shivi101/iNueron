{
 "cells": [
  {
   "cell_type": "raw",
   "metadata": {},
   "source": [
    "1.\tWrite a Python program to convert kilometers to miles?"
   ]
  },
  {
   "cell_type": "code",
   "execution_count": 19,
   "metadata": {},
   "outputs": [
    {
     "name": "stdout",
     "output_type": "stream",
     "text": [
      "Enter kilometers :5\n",
      "5.00 kilometer is equal to 3.11 miles\n"
     ]
    }
   ],
   "source": [
    "fac=0.62137\n",
    "def conv():\n",
    "    \"\"\"This funtion converts Kilometers into Mile\"\"\"\n",
    "    km= float(input(\"Enter kilometers :\"))   #For taking user input\n",
    "    miles = km*fac\n",
    "    print(\"%0.2f kilometer is equal to %0.2f miles\" %(km,miles))\n",
    "    \n",
    "       \n",
    "conv()"
   ]
  },
  {
   "cell_type": "raw",
   "metadata": {},
   "source": [
    "2.\tWrite a Python program to convert Celsius to Fahrenheit?"
   ]
  },
  {
   "cell_type": "code",
   "execution_count": 20,
   "metadata": {},
   "outputs": [
    {
     "name": "stdout",
     "output_type": "stream",
     "text": [
      "Enter celsius 6\n",
      "6.00 Celsius is equal to 42.80 fahrenheit\n"
     ]
    }
   ],
   "source": [
    "def conv1():\n",
    "    \"\"\"This function converts Celcius to Fahrenheit\"\"\"\n",
    "    cel=float(input(\"Enter celsius \"))\n",
    "    fahr= cel*(9/5)+32\n",
    "    print(\"%0.2f Celsius is equal to %0.2f fahrenheit\" %(cel,fahr))\n",
    "\n",
    "conv1()"
   ]
  },
  {
   "cell_type": "raw",
   "metadata": {},
   "source": [
    "3.\tWrite a Python program to display calendar?"
   ]
  },
  {
   "cell_type": "code",
   "execution_count": 10,
   "metadata": {},
   "outputs": [
    {
     "name": "stdout",
     "output_type": "stream",
     "text": [
      "Enter year: 2022\n",
      "Enter month: 6\n",
      "     June 2022\n",
      "Mo Tu We Th Fr Sa Su\n",
      "       1  2  3  4  5\n",
      " 6  7  8  9 10 11 12\n",
      "13 14 15 16 17 18 19\n",
      "20 21 22 23 24 25 26\n",
      "27 28 29 30\n",
      "\n"
     ]
    }
   ],
   "source": [
    "import calendar\n",
    "\n",
    "# To take month and year input from the user\n",
    "yy = int(input(\"Enter year: \"))\n",
    "mm = int(input(\"Enter month: \"))\n",
    "\n",
    "# display the calendar\n",
    "print(calendar.month(yy, mm))"
   ]
  },
  {
   "cell_type": "raw",
   "metadata": {},
   "source": [
    "4.\tWrite a Python program to solve quadratic equation?"
   ]
  },
  {
   "cell_type": "code",
   "execution_count": 19,
   "metadata": {},
   "outputs": [
    {
     "name": "stdout",
     "output_type": "stream",
     "text": [
      "Enter value of a :1\n",
      "Enter value of b :10\n",
      "Enter value of c :-24\n",
      "Roots are real and different\n",
      "the solutions are -12.0 and 2.0\n"
     ]
    }
   ],
   "source": [
    "import math      # to use mathematical functions in the code.\n",
    "def quadratic():\n",
    "    \"\"\"This function solves quadatic equation\"\"\"\n",
    "    a=float(input(\"Enter value of a :\"))\n",
    "    b=float(input(\"Enter value of b :\"))\n",
    "    c=float(input(\"Enter value of c :\"))\n",
    "    d=b*b-(4*a*c)   #calculating discriminant\n",
    "    \n",
    "    if(d>0):\n",
    "        print(\"Roots are real and different\")\n",
    "        r1=(-b-math.sqrt(d))/2*a\n",
    "        r2=(-b+math.sqrt(d))/2*a\n",
    "        print(\"the solutions are {} and {}\".format(r1,r2))\n",
    "        \n",
    "    elif(d==0):\n",
    "        print(\"Roots are real and same\")\n",
    "        print(\"Both the roots are\",(-b/(2*a)))\n",
    "    \n",
    "    #Discriminant is less than 0\n",
    "    else:\n",
    "        print(\"Roots are complex\")\n",
    "        r3=(-b/(2*a),\"+i\",math.sqrt(d))\n",
    "        r4=(-b/(2*a),\"-i\",math.sqrt(d))\n",
    "        print(\"Roots are {} and {}\".format(r3,r4))\n",
    "        \n",
    "\n",
    "quadratic()\n",
    "        "
   ]
  },
  {
   "cell_type": "raw",
   "metadata": {},
   "source": [
    "5.\tWrite a Python program to swap two variables without temp variable?"
   ]
  },
  {
   "cell_type": "code",
   "execution_count": 20,
   "metadata": {},
   "outputs": [
    {
     "name": "stdout",
     "output_type": "stream",
     "text": [
      "Enter the value of x :2\n",
      "Enter the value of y: 4\n",
      "Value of x is 4 and value of y is 2 after swapping.\n"
     ]
    }
   ],
   "source": [
    "x=int(input(\"Enter the value of x :\"))\n",
    "y=int(input(\"Enter the value of y: \"))\n",
    "x,y=y,x\n",
    "print(\"Value of x is {} and value of y is {} after swapping.\".format(x,y))"
   ]
  },
  {
   "cell_type": "code",
   "execution_count": null,
   "metadata": {},
   "outputs": [],
   "source": []
  },
  {
   "cell_type": "code",
   "execution_count": null,
   "metadata": {},
   "outputs": [],
   "source": []
  }
 ],
 "metadata": {
  "kernelspec": {
   "display_name": "Python 3",
   "language": "python",
   "name": "python3"
  }
 },
 "nbformat": 4,
 "nbformat_minor": 4
}
