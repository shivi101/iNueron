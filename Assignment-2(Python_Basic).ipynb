{
 "cells": [
  {
   "cell_type": "markdown",
   "metadata": {},
   "source": [
    "### ASSIGNMENT - 2"
   ]
  },
  {
   "cell_type": "raw",
   "metadata": {},
   "source": [
    "1.What are the two values of the Boolean data type? How do you write them?\n",
    "\n",
    "SOLUTION :\n",
    "\n",
    "The two values of Boolean data-type is True & False.\n",
    "True, False"
   ]
  },
  {
   "cell_type": "raw",
   "metadata": {},
   "source": [
    "2. What are the three different types of Boolean operators?\n",
    "\n",
    "SOLUTION:\n",
    "\n",
    "AND , OR, NOT are three boolean operators.These three logical operators are used to compare values. They evaluate expressions to Boolean values ie. returning either True or False .\n",
    "\n",
    "AND : Returns True if both the operands are true.\n",
    "OR: Returns True if either of the operands is true.\n",
    "NOT: Returns True if operand is false and vice-versa."
   ]
  },
  {
   "cell_type": "raw",
   "metadata": {},
   "source": [
    "3. Make a list of each Boolean operator's truth tables (i.e. every possible combination of Boolean values for the operator and what it evaluate ).\n",
    "\n",
    "SOLUTION :\n",
    "\n",
    "Below given Truth-tables contains every possible combination of Boolean values for the operator where A, B are 2 operands and R is result.\n",
    "\n",
    "Truth table for Logical AND :\n",
    "\n",
    "  A      B    |   R\n",
    " _____________|______\n",
    " True\tTrue  |\tTrue  \n",
    " True\tFalse |\tFalse\n",
    " False\tTrue  |\tFalse\n",
    " False\tFalse |\tFalse \n",
    "\n",
    "Truth table for Logical OR :\n",
    "\n",
    "  A      B    |   R\n",
    " _____________|______\n",
    " True\tTrue  |\tTrue\n",
    " True\tFalse |\tTrue\n",
    " False\tTrue  |\tTrue\n",
    " False\tFalse |\tFalse\n",
    "\n",
    "Truth table for Logical NOT :\n",
    "\n",
    " A    |   R\n",
    " _____|______\n",
    " True |  False\n",
    " False|  True"
   ]
  },
  {
   "cell_type": "raw",
   "metadata": {},
   "source": [
    "4. What are the values of the following expressions?\n",
    "(5 > 4) and (3 == 5)\n",
    "not (5 > 4)\n",
    "(5 > 4) or (3 == 5)\n",
    "not ((5 > 4) or (3 == 5))\n",
    "(True and True) and (True == False)\n",
    "(not False) or (not True)\n",
    "\n",
    "\n",
    "SOLUTION :\n",
    "\n",
    "(5 > 4) and (3 == 5)  -> False\n",
    "not (5 > 4)  -> False\n",
    "(5 > 4) or (3 == 5)  -> True\n",
    "not ((5 > 4) or (3 == 5))  ->  False\n",
    "(True and True) and (True == False)  -> False\n",
    "(not False) or (not True)  ->  True"
   ]
  },
  {
   "cell_type": "raw",
   "metadata": {},
   "source": [
    "5. What are the six comparison operators?\n",
    "\n",
    "SOLUTION :\n",
    "\n",
    "These are the 6 comparision operators used in python :\n",
    "Less than (<)\n",
    "Less than or equal to (<=)\n",
    "Greater than (>)\n",
    "Greater than or equal to (>=)\n",
    "Equal to ( == )\n",
    "Not equal to (!=)\n"
   ]
  },
  {
   "cell_type": "raw",
   "metadata": {},
   "source": [
    "6. How do you tell the difference between the equal to and assignment operators?Describe a condition and when you would use one.\n",
    "\n",
    "SOLUTION :\n",
    "\n",
    "Equal to is represented by (==) symbol and it is used when we have to compare whether two values are equal or not.Equal to operator always returns boolean value ie either True or False.\n",
    "While in case of assignment operater, it is represented by (=) symbol and it is used when we have to assign value to a variable.\n",
    "\n",
    "eg.\n",
    "1) a = 10 {This is assignment statement where value 10 is assigned to variable a using assignment operator '='}\n",
    "\n",
    "2) if (a==10):  { Here we are comparing value of variable a to 10 therefore (==) operator is used and according to that if or        print(\"Y\")  else will be executed}\n",
    "   else:\n",
    "     print(\"N\")\n"
   ]
  },
  {
   "cell_type": "code",
   "execution_count": 1,
   "metadata": {},
   "outputs": [
    {
     "name": "stdout",
     "output_type": "stream",
     "text": [
      "y\n"
     ]
    }
   ],
   "source": [
    "a= 10 # assignment operator to assign 10 to a.\n",
    "if a==10:  # Equal to operator to compare value of a to 10.\n",
    "    print(\"y\")\n",
    "else:\n",
    "    print(\"n\")"
   ]
  },
  {
   "cell_type": "raw",
   "metadata": {},
   "source": [
    "# 7. Identify the three blocks in this code:\n",
    "spam = 0\n",
    "if spam == 10: \n",
    "    print('eggs')\n",
    "if spam > 5:\n",
    "    print('bacon')\n",
    "else:\n",
    "    print('ham')\n",
    "    print('spam')\n",
    "    print('spam')\n",
    "\n",
    "SOLUTION :\n",
    "\n",
    "spam = 0\n",
    "if spam == 10:  # 1st block starts here for 1st if condition.\n",
    "    print('eggs')\n",
    "if spam > 5:    # 2nd block starts from here for second if condition.\n",
    "    print('bacon')\n",
    "else:           # 3rd block starts here and it is for else statement.\n",
    "    print('ham')\n",
    "    print('spam')\n",
    "    print('spam')\n",
    "\n"
   ]
  },
  {
   "cell_type": "code",
   "execution_count": 30,
   "metadata": {},
   "outputs": [
    {
     "name": "stdout",
     "output_type": "stream",
     "text": [
      " Enter the value of spam :2\n",
      "Howdy\n"
     ]
    }
   ],
   "source": [
    "#8. Write code that prints Hello if 1 is stored in spam, prints Howdy if 2 is stored in spam, and prints Greetings! if anything else is stored in spam.\n",
    "\n",
    "spam=int(input(\" Enter the value of spam :\"))\n",
    "if spam==1:\n",
    "    print('Hello')\n",
    "elif  spam==2:\n",
    "    print('Howdy')\n",
    "else:\n",
    "    print('Greeting!')"
   ]
  },
  {
   "cell_type": "raw",
   "metadata": {},
   "source": [
    "9.If your programme is stuck in an endless loop, what keys you’ll press?\n",
    "\n",
    "SOLUTION :\n",
    "\n",
    "Pressing 'i'twice will interrupt the kernal, and stop the infinite loop.\n",
    "CTRL + C is also one of the option to end infinite loop."
   ]
  },
  {
   "cell_type": "raw",
   "metadata": {},
   "source": [
    "10. How can you tell the difference between break and continue?\n",
    "\n",
    "SOLUTION :\n",
    "\n",
    "The difference between break and continue statements is that a break causes the innermost loop/switch statement to be exited immediately whereas, the continue statement causes the next iteration of the for, while, or do loop to begin. The continue statement in while and do loops takes the control to the loop's test-condition immediately, incase of for loop it takes the control to the increment step of the loop.\n",
    "\n",
    "Below codes demonstrate how break & continue statement work:"
   ]
  },
  {
   "cell_type": "code",
   "execution_count": 19,
   "metadata": {},
   "outputs": [
    {
     "name": "stdout",
     "output_type": "stream",
     "text": [
      "0\n",
      "1\n",
      "2\n",
      "3\n",
      "4\n"
     ]
    }
   ],
   "source": [
    "for i in range(7):\n",
    "    if (i==5):\n",
    "        break # when i reaches 5 break ends the loop.\n",
    "    print(i)"
   ]
  },
  {
   "cell_type": "code",
   "execution_count": 20,
   "metadata": {},
   "outputs": [
    {
     "name": "stdout",
     "output_type": "stream",
     "text": [
      "0\n",
      "1\n",
      "2\n",
      "3\n",
      "4\n",
      "6\n",
      "7\n",
      "8\n",
      "9\n"
     ]
    }
   ],
   "source": [
    "for i in range(10):\n",
    "    if(i==5):\n",
    "        continue # Here when i=5 continue will execute and increments value of i to 6.\n",
    "    else:\n",
    "        print(i)"
   ]
  },
  {
   "cell_type": "raw",
   "metadata": {},
   "source": [
    "11. In a for loop, what is the difference between range(10), range(0, 10), and range(0, 10, 1)?\n",
    "\n",
    "SOLUTION :\n",
    "\n",
    "range(start, stop, step) :Range() function produces a sequence of integers from start (inclusive) to stop (exclusive) by step size.\n",
    "\n",
    "All three will work same in a for loop.\n",
    "range(10) : It will generate sequence of integers from(0-9).\n",
    "range(0,10) : It will also generate sequence of integers from (0-9) but here both start & end is defined.\n",
    "range(0,10,1) : It will also generate sequence of integers from (0-9) but here bot starting point, ending point as well as step                 size is also defined."
   ]
  },
  {
   "cell_type": "code",
   "execution_count": 10,
   "metadata": {},
   "outputs": [
    {
     "name": "stdout",
     "output_type": "stream",
     "text": [
      "1\n",
      "2\n",
      "3\n",
      "4\n",
      "5\n",
      "6\n",
      "7\n",
      "8\n",
      "9\n",
      "10\n"
     ]
    }
   ],
   "source": [
    "#12. Write a short program that prints the numbers 1 to 10 using a for loop. Then write an equivalent program that prints the numbers 1 to 10 using a while loop.\n",
    "\n",
    "for i in range(1,11): #For-Loop\n",
    "    print(i)\n",
    "  "
   ]
  },
  {
   "cell_type": "code",
   "execution_count": 12,
   "metadata": {},
   "outputs": [
    {
     "name": "stdout",
     "output_type": "stream",
     "text": [
      "1\n",
      "2\n",
      "3\n",
      "4\n",
      "5\n",
      "6\n",
      "7\n",
      "8\n",
      "9\n",
      "10\n"
     ]
    }
   ],
   "source": [
    "# While-loop to print numbers from 1-10.\n",
    "i=1\n",
    "while(i<=10): \n",
    "    print(i)\n",
    "    i+=1"
   ]
  },
  {
   "cell_type": "raw",
   "metadata": {},
   "source": [
    "13. If you had a function named bacon() inside a module named spam, how would you call it after importing spam?\n",
    "\n",
    "SOLUTION :\n",
    "\n",
    "The function can be called with spam. bacon().\n"
   ]
  },
  {
   "cell_type": "code",
   "execution_count": null,
   "metadata": {},
   "outputs": [],
   "source": []
  }
 ],
 "metadata": {
  "kernelspec": {
   "display_name": "Python 3",
   "language": "python",
   "name": "python3"
  },
  "language_info": {
   "codemirror_mode": {
    "name": "ipython",
    "version": 3
   },
   "file_extension": ".py",
   "mimetype": "text/x-python",
   "name": "python",
   "nbconvert_exporter": "python",
   "pygments_lexer": "ipython3",
   "version": "3.7.6"
  }
 },
 "nbformat": 4,
 "nbformat_minor": 4
}
